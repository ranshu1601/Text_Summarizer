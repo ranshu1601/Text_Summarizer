{
  "nbformat": 4,
  "nbformat_minor": 0,
  "metadata": {
    "colab": {
      "name": "Text_Summarizer.ipynb",
      "provenance": [],
      "collapsed_sections": [],
      "authorship_tag": "ABX9TyNH6tsHR/W5biNI5X+9dV1i",
      "include_colab_link": true
    },
    "kernelspec": {
      "name": "python3",
      "display_name": "Python 3"
    },
    "language_info": {
      "name": "python"
    }
  },
  "cells": [
    {
      "cell_type": "markdown",
      "metadata": {
        "id": "view-in-github",
        "colab_type": "text"
      },
      "source": [
        "<a href=\"https://colab.research.google.com/github/ranshu1601/Text_Summarizer/blob/main/Text_Summarizer.ipynb\" target=\"_parent\"><img src=\"https://colab.research.google.com/assets/colab-badge.svg\" alt=\"Open In Colab\"/></a>"
      ]
    },
    {
      "cell_type": "code",
      "source": [
        "article_text = \"Java is a high-level, class-based, object-oriented programming language that is designed to have as few implementation dependencies as possible. It is a general-purpose programming language intended to let programmers write once, run anywhere (WORA),[17] meaning that compiled Java code can run on all platforms that support Java without the need to recompile.[18] Java applications are typically compiled to bytecode that can run on any Java virtual machine (JVM) regardless of the underlying computer architecture. The syntax of Java is similar to C and C++, but has fewer low-level facilities than either of them. The Java runtime provides dynamic capabilities (such as reflection and runtime code modification) that are typically not available in traditional compiled languages. As of 2019, Java was one of the most popular programming languages in use according to GitHub,[19][20] particularly for client–server web applications, with a reported 9 million developers.[21] Java was originally developed by James Gosling at Sun Microsystems and released in May 1995 as a core component of Sun Microsystems' Java platform. The original and reference implementation Java compilers, virtual machines, and class libraries were originally released by Sun under proprietary licenses. As of May 2007, in compliance with the specifications of the Java Community Process, Sun had relicensed most of its Java technologies under the GPL-2.0-only license. Oracle offers its own HotSpot Java Virtual Machine, however the official reference implementation is the OpenJDK JVM which is free open-source software and used by most developers and is the default JVM for almost all Linux distributions. As of March 2022, Java 18 is the latest version, while Java 17, 11 and 8 are the current long-term support (LTS) versions. Oracle released the last zero-cost public update for the legacy version Java 8 LTS in January 2019 for commercial use, although it will otherwise still support Java 8 with public updates for personal use indefinitely. Other vendors have begun to offer zero-cost builds of OpenJDK 8 and 11 that are still receiving security and other upgrades. Oracle (and others) highly recommend uninstalling outdated and unsupported versions of Java, due to unresolved security issues in older versions.[22] Oracle advises its users to immediately transition to a supported version, such as one of the LTS versions (8, 11, 17\""
      ],
      "metadata": {
        "id": "7GbG8tkRxM74"
      },
      "execution_count": 1,
      "outputs": []
    },
    {
      "cell_type": "code",
      "source": [
        "import re\n",
        "import nltk\n",
        "nltk.download('punkt')\n",
        "nltk.download('stopwords')\n",
        "import string"
      ],
      "metadata": {
        "colab": {
          "base_uri": "https://localhost:8080/"
        },
        "id": "Gz3pGY1zoj1x",
        "outputId": "d810eb8f-c558-4f8c-9bcc-c57355af0dd4"
      },
      "execution_count": 2,
      "outputs": [
        {
          "output_type": "stream",
          "name": "stdout",
          "text": [
            "[nltk_data] Downloading package punkt to /root/nltk_data...\n",
            "[nltk_data]   Unzipping tokenizers/punkt.zip.\n",
            "[nltk_data] Downloading package stopwords to /root/nltk_data...\n",
            "[nltk_data]   Unzipping corpora/stopwords.zip.\n"
          ]
        }
      ]
    },
    {
      "cell_type": "markdown",
      "source": [
        "##DATA Preprocessing "
      ],
      "metadata": {
        "id": "S5x4xV36os4I"
      }
    },
    {
      "cell_type": "code",
      "source": [
        "article_text = article_text.lower()\n",
        "article_text"
      ],
      "metadata": {
        "colab": {
          "base_uri": "https://localhost:8080/",
          "height": 122
        },
        "id": "-jXNlBxUoq1r",
        "outputId": "e8cd8170-6dea-4de5-88af-3d013de21d73"
      },
      "execution_count": 3,
      "outputs": [
        {
          "output_type": "execute_result",
          "data": {
            "text/plain": [
              "\"java is a high-level, class-based, object-oriented programming language that is designed to have as few implementation dependencies as possible. it is a general-purpose programming language intended to let programmers write once, run anywhere (wora),[17] meaning that compiled java code can run on all platforms that support java without the need to recompile.[18] java applications are typically compiled to bytecode that can run on any java virtual machine (jvm) regardless of the underlying computer architecture. the syntax of java is similar to c and c++, but has fewer low-level facilities than either of them. the java runtime provides dynamic capabilities (such as reflection and runtime code modification) that are typically not available in traditional compiled languages. as of 2019, java was one of the most popular programming languages in use according to github,[19][20] particularly for client–server web applications, with a reported 9 million developers.[21] java was originally developed by james gosling at sun microsystems and released in may 1995 as a core component of sun microsystems' java platform. the original and reference implementation java compilers, virtual machines, and class libraries were originally released by sun under proprietary licenses. as of may 2007, in compliance with the specifications of the java community process, sun had relicensed most of its java technologies under the gpl-2.0-only license. oracle offers its own hotspot java virtual machine, however the official reference implementation is the openjdk jvm which is free open-source software and used by most developers and is the default jvm for almost all linux distributions. as of march 2022, java 18 is the latest version, while java 17, 11 and 8 are the current long-term support (lts) versions. oracle released the last zero-cost public update for the legacy version java 8 lts in january 2019 for commercial use, although it will otherwise still support java 8 with public updates for personal use indefinitely. other vendors have begun to offer zero-cost builds of openjdk 8 and 11 that are still receiving security and other upgrades. oracle (and others) highly recommend uninstalling outdated and unsupported versions of java, due to unresolved security issues in older versions.[22] oracle advises its users to immediately transition to a supported version, such as one of the lts versions (8, 11, 17\""
            ],
            "application/vnd.google.colaboratory.intrinsic+json": {
              "type": "string"
            }
          },
          "metadata": {},
          "execution_count": 3
        }
      ]
    },
    {
      "cell_type": "code",
      "source": [
        "# remove spaces [ punctations ] and numbers \n",
        "clean_text = re.sub('[^a-zA-Z]',' ',article_text)\n",
        "clean_text = re.sub('\\s+',' ',article_text) # removing extra spaces\n",
        "#lower_case = clean_text.lower()\n",
        "#refined_text = lower_case.translate(str.maketrans('','',string.punctuation))\n",
        "clean_text"
      ],
      "metadata": {
        "colab": {
          "base_uri": "https://localhost:8080/",
          "height": 122
        },
        "id": "yHFYMS2_o1ZS",
        "outputId": "1a963918-11ba-43f1-e992-4004364cbfc0"
      },
      "execution_count": 4,
      "outputs": [
        {
          "output_type": "execute_result",
          "data": {
            "text/plain": [
              "\"java is a high-level, class-based, object-oriented programming language that is designed to have as few implementation dependencies as possible. it is a general-purpose programming language intended to let programmers write once, run anywhere (wora),[17] meaning that compiled java code can run on all platforms that support java without the need to recompile.[18] java applications are typically compiled to bytecode that can run on any java virtual machine (jvm) regardless of the underlying computer architecture. the syntax of java is similar to c and c++, but has fewer low-level facilities than either of them. the java runtime provides dynamic capabilities (such as reflection and runtime code modification) that are typically not available in traditional compiled languages. as of 2019, java was one of the most popular programming languages in use according to github,[19][20] particularly for client–server web applications, with a reported 9 million developers.[21] java was originally developed by james gosling at sun microsystems and released in may 1995 as a core component of sun microsystems' java platform. the original and reference implementation java compilers, virtual machines, and class libraries were originally released by sun under proprietary licenses. as of may 2007, in compliance with the specifications of the java community process, sun had relicensed most of its java technologies under the gpl-2.0-only license. oracle offers its own hotspot java virtual machine, however the official reference implementation is the openjdk jvm which is free open-source software and used by most developers and is the default jvm for almost all linux distributions. as of march 2022, java 18 is the latest version, while java 17, 11 and 8 are the current long-term support (lts) versions. oracle released the last zero-cost public update for the legacy version java 8 lts in january 2019 for commercial use, although it will otherwise still support java 8 with public updates for personal use indefinitely. other vendors have begun to offer zero-cost builds of openjdk 8 and 11 that are still receiving security and other upgrades. oracle (and others) highly recommend uninstalling outdated and unsupported versions of java, due to unresolved security issues in older versions.[22] oracle advises its users to immediately transition to a supported version, such as one of the lts versions (8, 11, 17\""
            ],
            "application/vnd.google.colaboratory.intrinsic+json": {
              "type": "string"
            }
          },
          "metadata": {},
          "execution_count": 4
        }
      ]
    },
    {
      "cell_type": "code",
      "source": [
        "#split into sentence list\n",
        "sentence_list = nltk.sent_tokenize(clean_text)\n",
        "sentence_list "
      ],
      "metadata": {
        "colab": {
          "base_uri": "https://localhost:8080/"
        },
        "id": "9h4ZyebdpPqJ",
        "outputId": "ee8ab836-cb89-4cdb-e9b9-bfa6f9c7ff64"
      },
      "execution_count": 5,
      "outputs": [
        {
          "output_type": "execute_result",
          "data": {
            "text/plain": [
              "['java is a high-level, class-based, object-oriented programming language that is designed to have as few implementation dependencies as possible.',\n",
              " 'it is a general-purpose programming language intended to let programmers write once, run anywhere (wora),[17] meaning that compiled java code can run on all platforms that support java without the need to recompile.',\n",
              " '[18] java applications are typically compiled to bytecode that can run on any java virtual machine (jvm) regardless of the underlying computer architecture.',\n",
              " 'the syntax of java is similar to c and c++, but has fewer low-level facilities than either of them.',\n",
              " 'the java runtime provides dynamic capabilities (such as reflection and runtime code modification) that are typically not available in traditional compiled languages.',\n",
              " 'as of 2019, java was one of the most popular programming languages in use according to github,[19][20] particularly for client–server web applications, with a reported 9 million developers.',\n",
              " \"[21] java was originally developed by james gosling at sun microsystems and released in may 1995 as a core component of sun microsystems' java platform.\",\n",
              " 'the original and reference implementation java compilers, virtual machines, and class libraries were originally released by sun under proprietary licenses.',\n",
              " 'as of may 2007, in compliance with the specifications of the java community process, sun had relicensed most of its java technologies under the gpl-2.0-only license.',\n",
              " 'oracle offers its own hotspot java virtual machine, however the official reference implementation is the openjdk jvm which is free open-source software and used by most developers and is the default jvm for almost all linux distributions.',\n",
              " 'as of march 2022, java 18 is the latest version, while java 17, 11 and 8 are the current long-term support (lts) versions.',\n",
              " 'oracle released the last zero-cost public update for the legacy version java 8 lts in january 2019 for commercial use, although it will otherwise still support java 8 with public updates for personal use indefinitely.',\n",
              " 'other vendors have begun to offer zero-cost builds of openjdk 8 and 11 that are still receiving security and other upgrades.',\n",
              " 'oracle (and others) highly recommend uninstalling outdated and unsupported versions of java, due to unresolved security issues in older versions.',\n",
              " '[22] oracle advises its users to immediately transition to a supported version, such as one of the lts versions (8, 11, 17']"
            ]
          },
          "metadata": {},
          "execution_count": 5
        }
      ]
    },
    {
      "cell_type": "markdown",
      "source": [
        "##Word Frequencies"
      ],
      "metadata": {
        "id": "F5Yox8-btc_t"
      }
    },
    {
      "cell_type": "code",
      "source": [
        "#let's just remove the stop words \n",
        "stopwords = nltk.corpus.stopwords.words('english')\n",
        "word_freq = {}\n",
        "for word in nltk.word_tokenize(clean_text):\n",
        "  if word not in stopwords:\n",
        "    if word not in word_freq:\n",
        "      word_freq[word] =1\n",
        "    else:\n",
        "      word_freq[word] +=1 "
      ],
      "metadata": {
        "id": "4dHO8NmHsYfH"
      },
      "execution_count": 6,
      "outputs": []
    },
    {
      "cell_type": "code",
      "source": [
        "max_freq = max(word_freq.values())\n",
        "\n",
        "for word in word_freq:\n",
        "  word_freq[word] = word_freq[word] / max_freq"
      ],
      "metadata": {
        "id": "Ga3bQHfctlwj"
      },
      "execution_count": 7,
      "outputs": []
    },
    {
      "cell_type": "markdown",
      "source": [
        "## Calculate Sentence Scores"
      ],
      "metadata": {
        "id": "z1gERgFouDRC"
      }
    },
    {
      "cell_type": "code",
      "source": [
        "sentence_score = {}\n",
        "\n",
        "for sentence in sentence_list:\n",
        "  for word in nltk.word_tokenize(sentence):\n",
        "    if word in word_freq and len(sentence.split(' ')) < 30:\n",
        "      if sentence not in sentence_score:\n",
        "        sentence_score[sentence] = word_freq[word]\n",
        "      else:\n",
        "        sentence_score[sentence] += word_freq[word]  \n"
      ],
      "metadata": {
        "id": "qCHGeSbzuBol"
      },
      "execution_count": 8,
      "outputs": []
    },
    {
      "cell_type": "code",
      "source": [
        "word_freq"
      ],
      "metadata": {
        "colab": {
          "base_uri": "https://localhost:8080/"
        },
        "id": "Apyu4CdwvdOC",
        "outputId": "17240d16-dddc-402e-f67a-b65f0f5e045e"
      },
      "execution_count": 9,
      "outputs": [
        {
          "output_type": "execute_result",
          "data": {
            "text/plain": [
              "{\"'\": 0.047619047619047616,\n",
              " '(': 0.2857142857142857,\n",
              " ')': 0.23809523809523808,\n",
              " ',': 1.0,\n",
              " '.': 0.6666666666666666,\n",
              " '11': 0.14285714285714285,\n",
              " '17': 0.14285714285714285,\n",
              " '18': 0.09523809523809523,\n",
              " '19': 0.047619047619047616,\n",
              " '1995': 0.047619047619047616,\n",
              " '20': 0.047619047619047616,\n",
              " '2007': 0.047619047619047616,\n",
              " '2019': 0.09523809523809523,\n",
              " '2022': 0.047619047619047616,\n",
              " '21': 0.047619047619047616,\n",
              " '22': 0.047619047619047616,\n",
              " '8': 0.23809523809523808,\n",
              " '9': 0.047619047619047616,\n",
              " '[': 0.2857142857142857,\n",
              " ']': 0.2857142857142857,\n",
              " 'according': 0.047619047619047616,\n",
              " 'advises': 0.047619047619047616,\n",
              " 'almost': 0.047619047619047616,\n",
              " 'although': 0.047619047619047616,\n",
              " 'anywhere': 0.047619047619047616,\n",
              " 'applications': 0.09523809523809523,\n",
              " 'architecture': 0.047619047619047616,\n",
              " 'available': 0.047619047619047616,\n",
              " 'begun': 0.047619047619047616,\n",
              " 'builds': 0.047619047619047616,\n",
              " 'bytecode': 0.047619047619047616,\n",
              " 'c': 0.047619047619047616,\n",
              " 'c++': 0.047619047619047616,\n",
              " 'capabilities': 0.047619047619047616,\n",
              " 'class': 0.047619047619047616,\n",
              " 'class-based': 0.047619047619047616,\n",
              " 'client–server': 0.047619047619047616,\n",
              " 'code': 0.09523809523809523,\n",
              " 'commercial': 0.047619047619047616,\n",
              " 'community': 0.047619047619047616,\n",
              " 'compiled': 0.14285714285714285,\n",
              " 'compilers': 0.047619047619047616,\n",
              " 'compliance': 0.047619047619047616,\n",
              " 'component': 0.047619047619047616,\n",
              " 'computer': 0.047619047619047616,\n",
              " 'core': 0.047619047619047616,\n",
              " 'current': 0.047619047619047616,\n",
              " 'default': 0.047619047619047616,\n",
              " 'dependencies': 0.047619047619047616,\n",
              " 'designed': 0.047619047619047616,\n",
              " 'developed': 0.047619047619047616,\n",
              " 'developers': 0.09523809523809523,\n",
              " 'distributions': 0.047619047619047616,\n",
              " 'due': 0.047619047619047616,\n",
              " 'dynamic': 0.047619047619047616,\n",
              " 'either': 0.047619047619047616,\n",
              " 'facilities': 0.047619047619047616,\n",
              " 'fewer': 0.047619047619047616,\n",
              " 'free': 0.047619047619047616,\n",
              " 'general-purpose': 0.047619047619047616,\n",
              " 'github': 0.047619047619047616,\n",
              " 'gosling': 0.047619047619047616,\n",
              " 'gpl-2.0-only': 0.047619047619047616,\n",
              " 'high-level': 0.047619047619047616,\n",
              " 'highly': 0.047619047619047616,\n",
              " 'hotspot': 0.047619047619047616,\n",
              " 'however': 0.047619047619047616,\n",
              " 'immediately': 0.047619047619047616,\n",
              " 'implementation': 0.14285714285714285,\n",
              " 'indefinitely': 0.047619047619047616,\n",
              " 'intended': 0.047619047619047616,\n",
              " 'issues': 0.047619047619047616,\n",
              " 'james': 0.047619047619047616,\n",
              " 'january': 0.047619047619047616,\n",
              " 'java': 0.9047619047619048,\n",
              " 'jvm': 0.14285714285714285,\n",
              " 'language': 0.09523809523809523,\n",
              " 'languages': 0.09523809523809523,\n",
              " 'last': 0.047619047619047616,\n",
              " 'latest': 0.047619047619047616,\n",
              " 'legacy': 0.047619047619047616,\n",
              " 'let': 0.047619047619047616,\n",
              " 'libraries': 0.047619047619047616,\n",
              " 'license': 0.047619047619047616,\n",
              " 'licenses': 0.047619047619047616,\n",
              " 'linux': 0.047619047619047616,\n",
              " 'long-term': 0.047619047619047616,\n",
              " 'low-level': 0.047619047619047616,\n",
              " 'lts': 0.14285714285714285,\n",
              " 'machine': 0.09523809523809523,\n",
              " 'machines': 0.047619047619047616,\n",
              " 'march': 0.047619047619047616,\n",
              " 'may': 0.09523809523809523,\n",
              " 'meaning': 0.047619047619047616,\n",
              " 'microsystems': 0.09523809523809523,\n",
              " 'million': 0.047619047619047616,\n",
              " 'modification': 0.047619047619047616,\n",
              " 'need': 0.047619047619047616,\n",
              " 'object-oriented': 0.047619047619047616,\n",
              " 'offer': 0.047619047619047616,\n",
              " 'offers': 0.047619047619047616,\n",
              " 'official': 0.047619047619047616,\n",
              " 'older': 0.047619047619047616,\n",
              " 'one': 0.09523809523809523,\n",
              " 'open-source': 0.047619047619047616,\n",
              " 'openjdk': 0.09523809523809523,\n",
              " 'oracle': 0.19047619047619047,\n",
              " 'original': 0.047619047619047616,\n",
              " 'originally': 0.09523809523809523,\n",
              " 'others': 0.047619047619047616,\n",
              " 'otherwise': 0.047619047619047616,\n",
              " 'outdated': 0.047619047619047616,\n",
              " 'particularly': 0.047619047619047616,\n",
              " 'personal': 0.047619047619047616,\n",
              " 'platform': 0.047619047619047616,\n",
              " 'platforms': 0.047619047619047616,\n",
              " 'popular': 0.047619047619047616,\n",
              " 'possible': 0.047619047619047616,\n",
              " 'process': 0.047619047619047616,\n",
              " 'programmers': 0.047619047619047616,\n",
              " 'programming': 0.14285714285714285,\n",
              " 'proprietary': 0.047619047619047616,\n",
              " 'provides': 0.047619047619047616,\n",
              " 'public': 0.09523809523809523,\n",
              " 'receiving': 0.047619047619047616,\n",
              " 'recommend': 0.047619047619047616,\n",
              " 'recompile': 0.047619047619047616,\n",
              " 'reference': 0.09523809523809523,\n",
              " 'reflection': 0.047619047619047616,\n",
              " 'regardless': 0.047619047619047616,\n",
              " 'released': 0.14285714285714285,\n",
              " 'relicensed': 0.047619047619047616,\n",
              " 'reported': 0.047619047619047616,\n",
              " 'run': 0.14285714285714285,\n",
              " 'runtime': 0.09523809523809523,\n",
              " 'security': 0.09523809523809523,\n",
              " 'similar': 0.047619047619047616,\n",
              " 'software': 0.047619047619047616,\n",
              " 'specifications': 0.047619047619047616,\n",
              " 'still': 0.09523809523809523,\n",
              " 'sun': 0.19047619047619047,\n",
              " 'support': 0.14285714285714285,\n",
              " 'supported': 0.047619047619047616,\n",
              " 'syntax': 0.047619047619047616,\n",
              " 'technologies': 0.047619047619047616,\n",
              " 'traditional': 0.047619047619047616,\n",
              " 'transition': 0.047619047619047616,\n",
              " 'typically': 0.09523809523809523,\n",
              " 'underlying': 0.047619047619047616,\n",
              " 'uninstalling': 0.047619047619047616,\n",
              " 'unresolved': 0.047619047619047616,\n",
              " 'unsupported': 0.047619047619047616,\n",
              " 'update': 0.047619047619047616,\n",
              " 'updates': 0.047619047619047616,\n",
              " 'upgrades': 0.047619047619047616,\n",
              " 'use': 0.14285714285714285,\n",
              " 'used': 0.047619047619047616,\n",
              " 'users': 0.047619047619047616,\n",
              " 'vendors': 0.047619047619047616,\n",
              " 'version': 0.14285714285714285,\n",
              " 'versions': 0.19047619047619047,\n",
              " 'virtual': 0.14285714285714285,\n",
              " 'web': 0.047619047619047616,\n",
              " 'without': 0.047619047619047616,\n",
              " 'wora': 0.047619047619047616,\n",
              " 'write': 0.047619047619047616,\n",
              " 'zero-cost': 0.09523809523809523}"
            ]
          },
          "metadata": {},
          "execution_count": 9
        }
      ]
    },
    {
      "cell_type": "code",
      "source": [
        "sentence_score"
      ],
      "metadata": {
        "colab": {
          "base_uri": "https://localhost:8080/"
        },
        "id": "dBdjDKLbvx7_",
        "outputId": "571fd6c8-b30f-4d4f-c56a-29b471f29d9a"
      },
      "execution_count": 10,
      "outputs": [
        {
          "output_type": "execute_result",
          "data": {
            "text/plain": [
              "{'[18] java applications are typically compiled to bytecode that can run on any java virtual machine (jvm) regardless of the underlying computer architecture.': 4.761904761904762,\n",
              " \"[21] java was originally developed by james gosling at sun microsystems and released in may 1995 as a core component of sun microsystems' java platform.\": 4.3809523809523805,\n",
              " '[22] oracle advises its users to immediately transition to a supported version, such as one of the lts versions (8, 11, 17': 5.42857142857143,\n",
              " 'as of 2019, java was one of the most popular programming languages in use according to github,[19][20] particularly for client–server web applications, with a reported 9 million developers.': 6.999999999999997,\n",
              " 'as of march 2022, java 18 is the latest version, while java 17, 11 and 8 are the current long-term support (lts) versions.': 7.476190476190478,\n",
              " 'as of may 2007, in compliance with the specifications of the java community process, sun had relicensed most of its java technologies under the gpl-2.0-only license.': 5.19047619047619,\n",
              " 'java is a high-level, class-based, object-oriented programming language that is designed to have as few implementation dependencies as possible.': 4.238095238095237,\n",
              " 'oracle (and others) highly recommend uninstalling outdated and unsupported versions of java, due to unresolved security issues in older versions.': 4.238095238095238,\n",
              " 'other vendors have begun to offer zero-cost builds of openjdk 8 and 11 that are still receiving security and other upgrades.': 1.714285714285714,\n",
              " 'the java runtime provides dynamic capabilities (such as reflection and runtime code modification) that are typically not available in traditional compiled languages.': 3.0476190476190474,\n",
              " 'the original and reference implementation java compilers, virtual machines, and class libraries were originally released by sun under proprietary licenses.': 4.7142857142857135,\n",
              " 'the syntax of java is similar to c and c++, but has fewer low-level facilities than either of them.': 2.9523809523809517}"
            ]
          },
          "metadata": {},
          "execution_count": 10
        }
      ]
    },
    {
      "cell_type": "markdown",
      "source": [
        "## Text Summarization "
      ],
      "metadata": {
        "id": "rFt1tfmqv-l8"
      }
    },
    {
      "cell_type": "code",
      "source": [
        "#get top 5 sentences \n",
        "import heapq\n",
        "summary = heapq.nlargest(5 , sentence_score , key=sentence_score.get)\n",
        "print(\" \".join(summary))"
      ],
      "metadata": {
        "colab": {
          "base_uri": "https://localhost:8080/"
        },
        "id": "mGy42DCtv3Ss",
        "outputId": "faa26fc8-9969-43b6-d74c-b1b93888e976"
      },
      "execution_count": 11,
      "outputs": [
        {
          "output_type": "stream",
          "name": "stdout",
          "text": [
            "as of march 2022, java 18 is the latest version, while java 17, 11 and 8 are the current long-term support (lts) versions. as of 2019, java was one of the most popular programming languages in use according to github,[19][20] particularly for client–server web applications, with a reported 9 million developers. [22] oracle advises its users to immediately transition to a supported version, such as one of the lts versions (8, 11, 17 as of may 2007, in compliance with the specifications of the java community process, sun had relicensed most of its java technologies under the gpl-2.0-only license. [18] java applications are typically compiled to bytecode that can run on any java virtual machine (jvm) regardless of the underlying computer architecture.\n"
          ]
        }
      ]
    }
  ]
}