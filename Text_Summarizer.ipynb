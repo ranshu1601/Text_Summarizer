{
  "nbformat": 4,
  "nbformat_minor": 0,
  "metadata": {
    "colab": {
      "name": "Text_Summarizer.ipynb",
      "provenance": [],
      "collapsed_sections": [],
      "authorship_tag": "ABX9TyMCHABnBtrvIE2kRrvzaSm0",
      "include_colab_link": true
    },
    "kernelspec": {
      "name": "python3",
      "display_name": "Python 3"
    },
    "language_info": {
      "name": "python"
    }
  },
  "cells": [
    {
      "cell_type": "markdown",
      "metadata": {
        "id": "view-in-github",
        "colab_type": "text"
      },
      "source": [
        "<a href=\"https://colab.research.google.com/github/ranshu1601/Text_Summarizer/blob/main/Text_Summarizer.ipynb\" target=\"_parent\"><img src=\"https://colab.research.google.com/assets/colab-badge.svg\" alt=\"Open In Colab\"/></a>"
      ]
    },
    {
      "cell_type": "code",
      "source": [
        "article_text = \"I want to be SHEETAL's dog. I want to completely submit to Her superior will and I want HER to decide for me. Now, you might say, haha what a simp, like a uncultured plebe you are. So, let me ask you this: what AUDACITY you must have, to assume a mere human like you can possess a superior judgment to this omnipotent being known as SHEETAL (PBUH)? What makes you think this divine being's intelligence is even remotely comparable to your sorry pathetic ape brain? You see, I understand that I'm inferior to this embodiment of perfection, and I'm willing to submit to Her FULLY. Oh, what an idyllic life it must be. Even being in the presence of such a goddess is ecstatic enough, but her actively interacting with you and giving you commands that directly benefit you? This must be what people refer to as heaven. You wouldn't believe what I would give up to be a subject of Her interest, to hear Her polite but austere commands, to fulfill Her every demand with infinite diligence, to be ready to serve Her at Her slightest whim. For my loyal servitude, She will reward me with her subtle touch and contented voice, and every syllable will make my heart race uncontrollably. For my greatest feats, that I will accomplish in Her name, she might reward me with the UTMOST PRIVILEGE of cleaning her body with my tongue. Even thinking about such a thing makes me flinch, as if I have committed a blasphemy against Her divine self. However, if She wills to grant me such an inhuman degree of pleasure, I will carry it out with absolute diligence and commitment, savouring every PLANCK'S MASS of her heavenly sweat that touches my unworthy of this sensation tongue. Of course, my pathetic human body, when confronted with such otherworldly pleasure, will make my genitals ejaculate with all their might. Then, I will make sure to consume all of my semen, while my divine Mistress will watch me with a faint smile on her perfect face. For then She will truly know, that I am the most loyal of her dogs.She makes me realise the reason God created women. I will happily let this woman ruin my life. She could give me Aids and the Covid and I might thank her for it. She could say my PP small and I might congratulate my pp for that. She could destroy my mental health and I might end up loving her even more. This face could cut my bodies in pieces and sell it in the black market and I'll still be fine with it.  She says there is an earthquake approaching and i will look forward to die. She could tell me day of judgment is tomorrow and Ill be looking forward to it. No one deserves to look this fine. \""
      ],
      "metadata": {
        "id": "7GbG8tkRxM74"
      },
      "execution_count": 60,
      "outputs": []
    },
    {
      "cell_type": "code",
      "source": [
        "import re\n",
        "import nltk\n",
        "nltk.download('punkt')\n",
        "nltk.download('stopwords')\n",
        "import string"
      ],
      "metadata": {
        "colab": {
          "base_uri": "https://localhost:8080/"
        },
        "id": "Gz3pGY1zoj1x",
        "outputId": "943a92ce-2598-4b8e-f539-88a2bc1e5f8e"
      },
      "execution_count": 61,
      "outputs": [
        {
          "output_type": "stream",
          "name": "stdout",
          "text": [
            "[nltk_data] Downloading package punkt to /root/nltk_data...\n",
            "[nltk_data]   Package punkt is already up-to-date!\n",
            "[nltk_data] Downloading package stopwords to /root/nltk_data...\n",
            "[nltk_data]   Package stopwords is already up-to-date!\n"
          ]
        }
      ]
    },
    {
      "cell_type": "markdown",
      "source": [
        "##DATA Preprocessing "
      ],
      "metadata": {
        "id": "S5x4xV36os4I"
      }
    },
    {
      "cell_type": "code",
      "source": [
        "article_text = article_text.lower()\n",
        "article_text"
      ],
      "metadata": {
        "colab": {
          "base_uri": "https://localhost:8080/",
          "height": 122
        },
        "id": "-jXNlBxUoq1r",
        "outputId": "11f1a24a-09ff-47b9-bb92-728466a6f00d"
      },
      "execution_count": 62,
      "outputs": [
        {
          "output_type": "execute_result",
          "data": {
            "text/plain": [
              "\"i want to be sheetal's dog. i want to completely submit to her superior will and i want her to decide for me. now, you might say, haha what a simp, like a uncultured plebe you are. so, let me ask you this: what audacity you must have, to assume a mere human like you can possess a superior judgment to this omnipotent being known as sheetal (pbuh)? what makes you think this divine being's intelligence is even remotely comparable to your sorry pathetic ape brain? you see, i understand that i'm inferior to this embodiment of perfection, and i'm willing to submit to her fully. oh, what an idyllic life it must be. even being in the presence of such a goddess is ecstatic enough, but her actively interacting with you and giving you commands that directly benefit you? this must be what people refer to as heaven. you wouldn't believe what i would give up to be a subject of her interest, to hear her polite but austere commands, to fulfill her every demand with infinite diligence, to be ready to serve her at her slightest whim. for my loyal servitude, she will reward me with her subtle touch and contented voice, and every syllable will make my heart race uncontrollably. for my greatest feats, that i will accomplish in her name, she might reward me with the utmost privilege of cleaning her body with my tongue. even thinking about such a thing makes me flinch, as if i have committed a blasphemy against her divine self. however, if she wills to grant me such an inhuman degree of pleasure, i will carry it out with absolute diligence and commitment, savouring every planck's mass of her heavenly sweat that touches my unworthy of this sensation tongue. of course, my pathetic human body, when confronted with such otherworldly pleasure, will make my genitals ejaculate with all their might. then, i will make sure to consume all of my semen, while my divine mistress will watch me with a faint smile on her perfect face. for then she will truly know, that i am the most loyal of her dogs.she makes me realise the reason god created women. i will happily let this woman ruin my life. she could give me aids and the covid and i might thank her for it. she could say my pp small and i might congratulate my pp for that. she could destroy my mental health and i might end up loving her even more. this face could cut my bodies in pieces and sell it in the black market and i'll still be fine with it.  she says there is an earthquake approaching and i will look forward to die. she could tell me day of judgment is tomorrow and ill be looking forward to it. no one deserves to look this fine. \""
            ],
            "application/vnd.google.colaboratory.intrinsic+json": {
              "type": "string"
            }
          },
          "metadata": {},
          "execution_count": 62
        }
      ]
    },
    {
      "cell_type": "code",
      "source": [
        "# remove spaces [ punctations ] and numbers \n",
        "clean_text = re.sub('[^a-zA-Z]',' ',article_text)\n",
        "clean_text = re.sub('\\s+',' ',article_text) # removing extra spaces\n",
        "#lower_case = clean_text.lower()\n",
        "#refined_text = lower_case.translate(str.maketrans('','',string.punctuation))\n",
        "clean_text"
      ],
      "metadata": {
        "colab": {
          "base_uri": "https://localhost:8080/",
          "height": 122
        },
        "id": "yHFYMS2_o1ZS",
        "outputId": "4e86a795-0629-4408-9635-8cd2bc35bcdc"
      },
      "execution_count": 63,
      "outputs": [
        {
          "output_type": "execute_result",
          "data": {
            "text/plain": [
              "\"i want to be sheetal's dog. i want to completely submit to her superior will and i want her to decide for me. now, you might say, haha what a simp, like a uncultured plebe you are. so, let me ask you this: what audacity you must have, to assume a mere human like you can possess a superior judgment to this omnipotent being known as sheetal (pbuh)? what makes you think this divine being's intelligence is even remotely comparable to your sorry pathetic ape brain? you see, i understand that i'm inferior to this embodiment of perfection, and i'm willing to submit to her fully. oh, what an idyllic life it must be. even being in the presence of such a goddess is ecstatic enough, but her actively interacting with you and giving you commands that directly benefit you? this must be what people refer to as heaven. you wouldn't believe what i would give up to be a subject of her interest, to hear her polite but austere commands, to fulfill her every demand with infinite diligence, to be ready to serve her at her slightest whim. for my loyal servitude, she will reward me with her subtle touch and contented voice, and every syllable will make my heart race uncontrollably. for my greatest feats, that i will accomplish in her name, she might reward me with the utmost privilege of cleaning her body with my tongue. even thinking about such a thing makes me flinch, as if i have committed a blasphemy against her divine self. however, if she wills to grant me such an inhuman degree of pleasure, i will carry it out with absolute diligence and commitment, savouring every planck's mass of her heavenly sweat that touches my unworthy of this sensation tongue. of course, my pathetic human body, when confronted with such otherworldly pleasure, will make my genitals ejaculate with all their might. then, i will make sure to consume all of my semen, while my divine mistress will watch me with a faint smile on her perfect face. for then she will truly know, that i am the most loyal of her dogs.she makes me realise the reason god created women. i will happily let this woman ruin my life. she could give me aids and the covid and i might thank her for it. she could say my pp small and i might congratulate my pp for that. she could destroy my mental health and i might end up loving her even more. this face could cut my bodies in pieces and sell it in the black market and i'll still be fine with it. she says there is an earthquake approaching and i will look forward to die. she could tell me day of judgment is tomorrow and ill be looking forward to it. no one deserves to look this fine. \""
            ],
            "application/vnd.google.colaboratory.intrinsic+json": {
              "type": "string"
            }
          },
          "metadata": {},
          "execution_count": 63
        }
      ]
    },
    {
      "cell_type": "code",
      "source": [
        "#split into sentence list\n",
        "sentence_list = nltk.sent_tokenize(clean_text)\n",
        "sentence_list "
      ],
      "metadata": {
        "colab": {
          "base_uri": "https://localhost:8080/"
        },
        "id": "9h4ZyebdpPqJ",
        "outputId": "f1c3a89c-d736-4ed8-9433-ad4e3edb36bf"
      },
      "execution_count": 64,
      "outputs": [
        {
          "output_type": "execute_result",
          "data": {
            "text/plain": [
              "[\"i want to be sheetal's dog.\",\n",
              " 'i want to completely submit to her superior will and i want her to decide for me.',\n",
              " 'now, you might say, haha what a simp, like a uncultured plebe you are.',\n",
              " 'so, let me ask you this: what audacity you must have, to assume a mere human like you can possess a superior judgment to this omnipotent being known as sheetal (pbuh)?',\n",
              " \"what makes you think this divine being's intelligence is even remotely comparable to your sorry pathetic ape brain?\",\n",
              " \"you see, i understand that i'm inferior to this embodiment of perfection, and i'm willing to submit to her fully.\",\n",
              " 'oh, what an idyllic life it must be.',\n",
              " 'even being in the presence of such a goddess is ecstatic enough, but her actively interacting with you and giving you commands that directly benefit you?',\n",
              " 'this must be what people refer to as heaven.',\n",
              " \"you wouldn't believe what i would give up to be a subject of her interest, to hear her polite but austere commands, to fulfill her every demand with infinite diligence, to be ready to serve her at her slightest whim.\",\n",
              " 'for my loyal servitude, she will reward me with her subtle touch and contented voice, and every syllable will make my heart race uncontrollably.',\n",
              " 'for my greatest feats, that i will accomplish in her name, she might reward me with the utmost privilege of cleaning her body with my tongue.',\n",
              " 'even thinking about such a thing makes me flinch, as if i have committed a blasphemy against her divine self.',\n",
              " \"however, if she wills to grant me such an inhuman degree of pleasure, i will carry it out with absolute diligence and commitment, savouring every planck's mass of her heavenly sweat that touches my unworthy of this sensation tongue.\",\n",
              " 'of course, my pathetic human body, when confronted with such otherworldly pleasure, will make my genitals ejaculate with all their might.',\n",
              " 'then, i will make sure to consume all of my semen, while my divine mistress will watch me with a faint smile on her perfect face.',\n",
              " 'for then she will truly know, that i am the most loyal of her dogs.she makes me realise the reason god created women.',\n",
              " 'i will happily let this woman ruin my life.',\n",
              " 'she could give me aids and the covid and i might thank her for it.',\n",
              " 'she could say my pp small and i might congratulate my pp for that.',\n",
              " 'she could destroy my mental health and i might end up loving her even more.',\n",
              " \"this face could cut my bodies in pieces and sell it in the black market and i'll still be fine with it.\",\n",
              " 'she says there is an earthquake approaching and i will look forward to die.',\n",
              " 'she could tell me day of judgment is tomorrow and ill be looking forward to it.',\n",
              " 'no one deserves to look this fine.']"
            ]
          },
          "metadata": {},
          "execution_count": 64
        }
      ]
    },
    {
      "cell_type": "markdown",
      "source": [
        "##Word Frequencies"
      ],
      "metadata": {
        "id": "F5Yox8-btc_t"
      }
    },
    {
      "cell_type": "code",
      "source": [
        "#let's just remove the stop words \n",
        "stopwords = nltk.corpus.stopwords.words('english')\n",
        "word_freq = {}\n",
        "for word in nltk.word_tokenize(clean_text):\n",
        "  if word not in stopwords:\n",
        "    if word not in word_freq:\n",
        "      word_freq[word] =1\n",
        "    else:\n",
        "      word_freq[word] +=1 "
      ],
      "metadata": {
        "id": "4dHO8NmHsYfH"
      },
      "execution_count": 65,
      "outputs": []
    },
    {
      "cell_type": "code",
      "source": [
        "max_freq = max(word_freq.values())\n",
        "\n",
        "for word in word_freq:\n",
        "  word_freq[word] = word_freq[word] / max_freq"
      ],
      "metadata": {
        "id": "Ga3bQHfctlwj"
      },
      "execution_count": 66,
      "outputs": []
    },
    {
      "cell_type": "markdown",
      "source": [
        "## Calculate Sentence Scores"
      ],
      "metadata": {
        "id": "z1gERgFouDRC"
      }
    },
    {
      "cell_type": "code",
      "source": [
        "sentence_score = {}\n",
        "\n",
        "for sentence in sentence_list:\n",
        "  for word in nltk.word_tokenize(sentence):\n",
        "    if word in word_freq and len(sentence.split(' ')) < 30:\n",
        "      if sentence not in sentence_score:\n",
        "        sentence_score[sentence] = word_freq[word]\n",
        "      else:\n",
        "        sentence_score[sentence] += word_freq[word]  \n"
      ],
      "metadata": {
        "id": "qCHGeSbzuBol"
      },
      "execution_count": 67,
      "outputs": []
    },
    {
      "cell_type": "code",
      "source": [
        "word_freq"
      ],
      "metadata": {
        "colab": {
          "base_uri": "https://localhost:8080/"
        },
        "id": "Apyu4CdwvdOC",
        "outputId": "30948e4f-6d18-4ab1-e7cd-f8c340e6aa5f"
      },
      "execution_count": 68,
      "outputs": [
        {
          "output_type": "execute_result",
          "data": {
            "text/plain": [
              "{\"'ll\": 0.038461538461538464,\n",
              " \"'m\": 0.07692307692307693,\n",
              " \"'s\": 0.11538461538461539,\n",
              " '(': 0.038461538461538464,\n",
              " ')': 0.038461538461538464,\n",
              " ',': 1.0,\n",
              " '.': 0.8461538461538461,\n",
              " ':': 0.038461538461538464,\n",
              " '?': 0.11538461538461539,\n",
              " 'absolute': 0.038461538461538464,\n",
              " 'accomplish': 0.038461538461538464,\n",
              " 'actively': 0.038461538461538464,\n",
              " 'aids': 0.038461538461538464,\n",
              " 'ape': 0.038461538461538464,\n",
              " 'approaching': 0.038461538461538464,\n",
              " 'ask': 0.038461538461538464,\n",
              " 'assume': 0.038461538461538464,\n",
              " 'audacity': 0.038461538461538464,\n",
              " 'austere': 0.038461538461538464,\n",
              " 'believe': 0.038461538461538464,\n",
              " 'benefit': 0.038461538461538464,\n",
              " 'black': 0.038461538461538464,\n",
              " 'blasphemy': 0.038461538461538464,\n",
              " 'bodies': 0.038461538461538464,\n",
              " 'body': 0.07692307692307693,\n",
              " 'brain': 0.038461538461538464,\n",
              " 'carry': 0.038461538461538464,\n",
              " 'cleaning': 0.038461538461538464,\n",
              " 'commands': 0.07692307692307693,\n",
              " 'commitment': 0.038461538461538464,\n",
              " 'committed': 0.038461538461538464,\n",
              " 'comparable': 0.038461538461538464,\n",
              " 'completely': 0.038461538461538464,\n",
              " 'confronted': 0.038461538461538464,\n",
              " 'congratulate': 0.038461538461538464,\n",
              " 'consume': 0.038461538461538464,\n",
              " 'contented': 0.038461538461538464,\n",
              " 'could': 0.19230769230769232,\n",
              " 'course': 0.038461538461538464,\n",
              " 'covid': 0.038461538461538464,\n",
              " 'created': 0.038461538461538464,\n",
              " 'cut': 0.038461538461538464,\n",
              " 'day': 0.038461538461538464,\n",
              " 'decide': 0.038461538461538464,\n",
              " 'degree': 0.038461538461538464,\n",
              " 'demand': 0.038461538461538464,\n",
              " 'deserves': 0.038461538461538464,\n",
              " 'destroy': 0.038461538461538464,\n",
              " 'die': 0.038461538461538464,\n",
              " 'diligence': 0.07692307692307693,\n",
              " 'directly': 0.038461538461538464,\n",
              " 'divine': 0.11538461538461539,\n",
              " 'dog': 0.038461538461538464,\n",
              " 'dogs.she': 0.038461538461538464,\n",
              " 'earthquake': 0.038461538461538464,\n",
              " 'ecstatic': 0.038461538461538464,\n",
              " 'ejaculate': 0.038461538461538464,\n",
              " 'embodiment': 0.038461538461538464,\n",
              " 'end': 0.038461538461538464,\n",
              " 'enough': 0.038461538461538464,\n",
              " 'even': 0.15384615384615385,\n",
              " 'every': 0.11538461538461539,\n",
              " 'face': 0.07692307692307693,\n",
              " 'faint': 0.038461538461538464,\n",
              " 'feats': 0.038461538461538464,\n",
              " 'fine': 0.07692307692307693,\n",
              " 'flinch': 0.038461538461538464,\n",
              " 'forward': 0.07692307692307693,\n",
              " 'fulfill': 0.038461538461538464,\n",
              " 'fully': 0.038461538461538464,\n",
              " 'genitals': 0.038461538461538464,\n",
              " 'give': 0.07692307692307693,\n",
              " 'giving': 0.038461538461538464,\n",
              " 'god': 0.038461538461538464,\n",
              " 'goddess': 0.038461538461538464,\n",
              " 'grant': 0.038461538461538464,\n",
              " 'greatest': 0.038461538461538464,\n",
              " 'haha': 0.038461538461538464,\n",
              " 'happily': 0.038461538461538464,\n",
              " 'health': 0.038461538461538464,\n",
              " 'hear': 0.038461538461538464,\n",
              " 'heart': 0.038461538461538464,\n",
              " 'heaven': 0.038461538461538464,\n",
              " 'heavenly': 0.038461538461538464,\n",
              " 'however': 0.038461538461538464,\n",
              " 'human': 0.07692307692307693,\n",
              " 'idyllic': 0.038461538461538464,\n",
              " 'ill': 0.038461538461538464,\n",
              " 'inferior': 0.038461538461538464,\n",
              " 'infinite': 0.038461538461538464,\n",
              " 'inhuman': 0.038461538461538464,\n",
              " 'intelligence': 0.038461538461538464,\n",
              " 'interacting': 0.038461538461538464,\n",
              " 'interest': 0.038461538461538464,\n",
              " 'judgment': 0.07692307692307693,\n",
              " 'know': 0.038461538461538464,\n",
              " 'known': 0.038461538461538464,\n",
              " 'let': 0.07692307692307693,\n",
              " 'life': 0.07692307692307693,\n",
              " 'like': 0.07692307692307693,\n",
              " 'look': 0.07692307692307693,\n",
              " 'looking': 0.038461538461538464,\n",
              " 'loving': 0.038461538461538464,\n",
              " 'loyal': 0.07692307692307693,\n",
              " 'make': 0.11538461538461539,\n",
              " 'makes': 0.11538461538461539,\n",
              " 'market': 0.038461538461538464,\n",
              " 'mass': 0.038461538461538464,\n",
              " 'mental': 0.038461538461538464,\n",
              " 'mere': 0.038461538461538464,\n",
              " 'might': 0.23076923076923078,\n",
              " 'mistress': 0.038461538461538464,\n",
              " 'must': 0.11538461538461539,\n",
              " \"n't\": 0.038461538461538464,\n",
              " 'name': 0.038461538461538464,\n",
              " 'oh': 0.038461538461538464,\n",
              " 'omnipotent': 0.038461538461538464,\n",
              " 'one': 0.038461538461538464,\n",
              " 'otherworldly': 0.038461538461538464,\n",
              " 'pathetic': 0.07692307692307693,\n",
              " 'pbuh': 0.038461538461538464,\n",
              " 'people': 0.038461538461538464,\n",
              " 'perfect': 0.038461538461538464,\n",
              " 'perfection': 0.038461538461538464,\n",
              " 'pieces': 0.038461538461538464,\n",
              " 'planck': 0.038461538461538464,\n",
              " 'pleasure': 0.07692307692307693,\n",
              " 'plebe': 0.038461538461538464,\n",
              " 'polite': 0.038461538461538464,\n",
              " 'possess': 0.038461538461538464,\n",
              " 'pp': 0.07692307692307693,\n",
              " 'presence': 0.038461538461538464,\n",
              " 'privilege': 0.038461538461538464,\n",
              " 'race': 0.038461538461538464,\n",
              " 'ready': 0.038461538461538464,\n",
              " 'realise': 0.038461538461538464,\n",
              " 'reason': 0.038461538461538464,\n",
              " 'refer': 0.038461538461538464,\n",
              " 'remotely': 0.038461538461538464,\n",
              " 'reward': 0.07692307692307693,\n",
              " 'ruin': 0.038461538461538464,\n",
              " 'savouring': 0.038461538461538464,\n",
              " 'say': 0.07692307692307693,\n",
              " 'says': 0.038461538461538464,\n",
              " 'see': 0.038461538461538464,\n",
              " 'self': 0.038461538461538464,\n",
              " 'sell': 0.038461538461538464,\n",
              " 'semen': 0.038461538461538464,\n",
              " 'sensation': 0.038461538461538464,\n",
              " 'serve': 0.038461538461538464,\n",
              " 'servitude': 0.038461538461538464,\n",
              " 'sheetal': 0.07692307692307693,\n",
              " 'simp': 0.038461538461538464,\n",
              " 'slightest': 0.038461538461538464,\n",
              " 'small': 0.038461538461538464,\n",
              " 'smile': 0.038461538461538464,\n",
              " 'sorry': 0.038461538461538464,\n",
              " 'still': 0.038461538461538464,\n",
              " 'subject': 0.038461538461538464,\n",
              " 'submit': 0.07692307692307693,\n",
              " 'subtle': 0.038461538461538464,\n",
              " 'superior': 0.07692307692307693,\n",
              " 'sure': 0.038461538461538464,\n",
              " 'sweat': 0.038461538461538464,\n",
              " 'syllable': 0.038461538461538464,\n",
              " 'tell': 0.038461538461538464,\n",
              " 'thank': 0.038461538461538464,\n",
              " 'thing': 0.038461538461538464,\n",
              " 'think': 0.038461538461538464,\n",
              " 'thinking': 0.038461538461538464,\n",
              " 'tomorrow': 0.038461538461538464,\n",
              " 'tongue': 0.07692307692307693,\n",
              " 'touch': 0.038461538461538464,\n",
              " 'touches': 0.038461538461538464,\n",
              " 'truly': 0.038461538461538464,\n",
              " 'uncontrollably': 0.038461538461538464,\n",
              " 'uncultured': 0.038461538461538464,\n",
              " 'understand': 0.038461538461538464,\n",
              " 'unworthy': 0.038461538461538464,\n",
              " 'utmost': 0.038461538461538464,\n",
              " 'voice': 0.038461538461538464,\n",
              " 'want': 0.11538461538461539,\n",
              " 'watch': 0.038461538461538464,\n",
              " 'whim': 0.038461538461538464,\n",
              " 'willing': 0.038461538461538464,\n",
              " 'wills': 0.038461538461538464,\n",
              " 'woman': 0.038461538461538464,\n",
              " 'women': 0.038461538461538464,\n",
              " 'would': 0.07692307692307693}"
            ]
          },
          "metadata": {},
          "execution_count": 68
        }
      ]
    },
    {
      "cell_type": "code",
      "source": [
        "sentence_score"
      ],
      "metadata": {
        "colab": {
          "base_uri": "https://localhost:8080/"
        },
        "id": "dBdjDKLbvx7_",
        "outputId": "563d281c-05ae-48cd-92c7-c0fd7a3b95ba"
      },
      "execution_count": 69,
      "outputs": [
        {
          "output_type": "execute_result",
          "data": {
            "text/plain": [
              "{'even being in the presence of such a goddess is ecstatic enough, but her actively interacting with you and giving you commands that directly benefit you?': 1.6923076923076927,\n",
              " 'even thinking about such a thing makes me flinch, as if i have committed a blasphemy against her divine self.': 2.4615384615384617,\n",
              " 'for my greatest feats, that i will accomplish in her name, she might reward me with the utmost privilege of cleaning her body with my tongue.': 3.5769230769230775,\n",
              " 'for my loyal servitude, she will reward me with her subtle touch and contented voice, and every syllable will make my heart race uncontrollably.': 3.576923076923077,\n",
              " 'for then she will truly know, that i am the most loyal of her dogs.she makes me realise the reason god created women.': 2.3461538461538467,\n",
              " \"i want to be sheetal's dog.\": 1.1923076923076923,\n",
              " 'i want to completely submit to her superior will and i want her to decide for me.': 1.3076923076923077,\n",
              " 'i will happily let this woman ruin my life.': 1.1153846153846154,\n",
              " 'no one deserves to look this fine.': 1.0769230769230769,\n",
              " 'now, you might say, haha what a simp, like a uncultured plebe you are.': 4.384615384615384,\n",
              " 'of course, my pathetic human body, when confronted with such otherworldly pleasure, will make my genitals ejaculate with all their might.': 4.692307692307692,\n",
              " 'oh, what an idyllic life it must be.': 2.1153846153846154,\n",
              " 'she could destroy my mental health and i might end up loving her even more.': 1.6153846153846154,\n",
              " 'she could give me aids and the covid and i might thank her for it.': 1.4615384615384615,\n",
              " 'she could say my pp small and i might congratulate my pp for that.': 1.576923076923077,\n",
              " 'she could tell me day of judgment is tomorrow and ill be looking forward to it.': 1.3846153846153846,\n",
              " 'she says there is an earthquake approaching and i will look forward to die.': 1.1538461538461537,\n",
              " 'then, i will make sure to consume all of my semen, while my divine mistress will watch me with a faint smile on her perfect face.': 3.4615384615384612,\n",
              " \"this face could cut my bodies in pieces and sell it in the black market and i'll still be fine with it.\": 1.5,\n",
              " 'this must be what people refer to as heaven.': 1.0769230769230769,\n",
              " \"what makes you think this divine being's intelligence is even remotely comparable to your sorry pathetic ape brain?\": 0.9615384615384615,\n",
              " \"you see, i understand that i'm inferior to this embodiment of perfection, and i'm willing to submit to her fully.\": 3.3461538461538467}"
            ]
          },
          "metadata": {},
          "execution_count": 69
        }
      ]
    },
    {
      "cell_type": "markdown",
      "source": [
        "## Text Summarization "
      ],
      "metadata": {
        "id": "rFt1tfmqv-l8"
      }
    },
    {
      "cell_type": "code",
      "source": [
        "#get top 5 sentences \n",
        "import heapq\n",
        "summary = heapq.nlargest(5 , sentence_score , key=sentence_score.get)\n",
        "print(\" \".join(summary))"
      ],
      "metadata": {
        "colab": {
          "base_uri": "https://localhost:8080/"
        },
        "id": "mGy42DCtv3Ss",
        "outputId": "f6bb2040-0246-4e86-f5db-97c74355b779"
      },
      "execution_count": 70,
      "outputs": [
        {
          "output_type": "stream",
          "name": "stdout",
          "text": [
            "of course, my pathetic human body, when confronted with such otherworldly pleasure, will make my genitals ejaculate with all their might. now, you might say, haha what a simp, like a uncultured plebe you are. for my greatest feats, that i will accomplish in her name, she might reward me with the utmost privilege of cleaning her body with my tongue. for my loyal servitude, she will reward me with her subtle touch and contented voice, and every syllable will make my heart race uncontrollably. then, i will make sure to consume all of my semen, while my divine mistress will watch me with a faint smile on her perfect face.\n"
          ]
        }
      ]
    }
  ]
}